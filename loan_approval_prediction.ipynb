{
  "nbformat": 4,
  "nbformat_minor": 0,
  "metadata": {
    "colab": {
      "provenance": [],
      "toc_visible": true,
      "authorship_tag": "ABX9TyOxt6UESVWVU6JrbDOuHFDD",
      "include_colab_link": true
    },
    "kernelspec": {
      "name": "python3",
      "display_name": "Python 3"
    },
    "language_info": {
      "name": "python"
    }
  },
  "cells": [
    {
      "cell_type": "markdown",
      "metadata": {
        "id": "view-in-github",
        "colab_type": "text"
      },
      "source": [
        "<a href=\"https://colab.research.google.com/github/Michael-HK/mlops-loan_approval_model/blob/main/loan_approval_prediction.ipynb\" target=\"_parent\"><img src=\"https://colab.research.google.com/assets/colab-badge.svg\" alt=\"Open In Colab\"/></a>"
      ]
    },
    {
      "cell_type": "code",
      "execution_count": null,
      "metadata": {
        "id": "CbWSligNZ---"
      },
      "outputs": [],
      "source": [
        "!pip install dabl\n",
        "!pip install imbalanced-learn"
      ]
    },
    {
      "cell_type": "code",
      "source": [
        "import pandas as pd\n",
        "import numpy as np\n",
        "import matplotlib.pyplot as plt\n",
        "import seaborn as sns\n",
        "import warnings\n",
        "warnings.filterwarnings('ignore')\n",
        "import dabl\n",
        "from pickle import dump\n",
        "from imblearn.over_sampling import SMOTE\n",
        "from imblearn.under_sampling import RandomUnderSampler\n",
        "from imblearn.pipeline import Pipeline"
      ],
      "metadata": {
        "id": "q_qeF87abByH"
      },
      "execution_count": null,
      "outputs": []
    },
    {
      "cell_type": "code",
      "source": [
        "%%javascript\n",
        "IPython.OutputArea.prototype._should_scroll = function() {\n",
        "    return False;\n",
        "}"
      ],
      "metadata": {
        "id": "QyVdswYScRap"
      },
      "execution_count": null,
      "outputs": []
    },
    {
      "cell_type": "code",
      "source": [
        "df=pd.read_csv(\"/kaggle/input/loan-approval-prediction/Training Dataset.csv\")\n",
        "df"
      ],
      "metadata": {
        "id": "I_wYjHq1bFOY"
      },
      "execution_count": null,
      "outputs": []
    },
    {
      "cell_type": "code",
      "source": [
        "#============= check shape ==================\n",
        "df.shape"
      ],
      "metadata": {
        "id": "oWyyexpubTWu"
      },
      "execution_count": null,
      "outputs": []
    },
    {
      "cell_type": "code",
      "source": [
        "# Check for data types of the columns\n",
        "df.info()"
      ],
      "metadata": {
        "id": "N18dz4d3bIq_"
      },
      "execution_count": null,
      "outputs": []
    },
    {
      "cell_type": "code",
      "source": [
        "df.describe()"
      ],
      "metadata": {
        "id": "tYkDczw_beHn"
      },
      "execution_count": null,
      "outputs": []
    },
    {
      "cell_type": "code",
      "source": [
        "##==== check for nan ===========\n",
        "\n",
        "df.isnull().sum()"
      ],
      "metadata": {
        "id": "czSiFf2Dbe8X"
      },
      "execution_count": null,
      "outputs": []
    },
    {
      "cell_type": "code",
      "source": [
        "##========== fill nan present in the whole datasets =================\n",
        "\n",
        "df.LoanAmount=df['LoanAmount'].fillna(df.LoanAmount.mean())\n",
        "\n",
        "df.Credit_History=df['Credit_History'].fillna(df.Credit_History.mean())\n",
        "\n",
        "df.Loan_Amount_Term=df['Loan_Amount_Term'].fillna(df.Loan_Amount_Term.mean())\n",
        "\n",
        "df['Gender'].fillna(df['Gender'].value_counts().idxmax(), inplace=True)\n",
        "\n",
        "df['Married'].fillna(df['Married'].value_counts().idxmax(), inplace=True)\n",
        "\n",
        "df.Dependents.fillna(df['Dependents'].value_counts().idxmax(), inplace=True)\n",
        "\n",
        "df.Self_Employed.fillna(df['Self_Employed'].value_counts().idxmax(), inplace=True)"
      ],
      "metadata": {
        "id": "QZ2VQh_Rbe9H"
      },
      "execution_count": null,
      "outputs": []
    },
    {
      "cell_type": "code",
      "source": [
        "##========== replace N and Y with binary ==========\n",
        "def Replace(a):\n",
        "  if a=='N'\n",
        "    return 0\n",
        "  else:\n",
        "    return 1\n",
        "\n",
        "df['loan_Status'] = df['loan_Status'].apply(Replace)\n",
        "\n",
        "#df.Loan_Status.replace('N',0,inplace=True)\n",
        "#df.Loan_Status.replace('Y',1,inplace=True)"
      ],
      "metadata": {
        "id": "KKoNNig9crPr"
      },
      "execution_count": null,
      "outputs": []
    },
    {
      "cell_type": "code",
      "source": [
        "#======== drop ID column ==================\n",
        "df.drop(['Loan_ID'],axis=1)"
      ],
      "metadata": {
        "id": "a9-YawfodHtP"
      },
      "execution_count": null,
      "outputs": []
    },
    {
      "cell_type": "markdown",
      "source": [
        "**Initial data exploration**"
      ],
      "metadata": {
        "id": "uEL_21UhcCPn"
      }
    },
    {
      "cell_type": "code",
      "source": [
        "plt.style.use('ggplot')\n",
        "warnings.filterwarnings('ignore')\n",
        "dabl.plot(df, target_col = 'Loan_Status')"
      ],
      "metadata": {
        "id": "0UY_vch5b-6i"
      },
      "execution_count": null,
      "outputs": []
    },
    {
      "cell_type": "markdown",
      "source": [
        "**Data Analysis**"
      ],
      "metadata": {
        "id": "B-a-_gLyeSIL"
      }
    },
    {
      "cell_type": "code",
      "source": [
        "cat_var = ['Gender', 'Married', 'Dependents', 'Education', 'Self_Employed', 'Property_Area']\n",
        "\n",
        "fig, axs = plt.subplots(nrows=2, ncols=3, figsize=(15,15))\n",
        "\n",
        "## create pie chart for each categories variables\n",
        "for i, var in enumerate(cat_vars):\n",
        "  if i < len(axs.flat):\n",
        "    # count the number of occurence in each category\n",
        "    cat_counts = df[var].value_counts()\n",
        "\n",
        "    #create pie\n",
        "    axs.flat[i].pie(cat_counts, labels=cat_counts.index, autopct='%1.1f%%', startangle=90)\n",
        "    #set a title\n",
        "    axs.flat[i].set_title(f'{var} Distribution')\n",
        "\n",
        "# adjust spacing\n",
        "fig.tight_layout()\n",
        "\n",
        "#show the plot\n",
        "plt.show()"
      ],
      "metadata": {
        "id": "kD3GyqGUeU8l"
      },
      "execution_count": null,
      "outputs": []
    },
    {
      "cell_type": "code",
      "source": [
        "#==============create figure with subplots====================\n",
        "\n",
        "fig, axis = plt.subplots(nrows=3, ncols=3, figsize=(15,15))\n",
        "\n",
        "for i, var in enumerate(df.select_dtypes(include=['object']).columns:):\n",
        "  sns.countplot(x=var, hue='Loan_Status', data=df, ax=axis[i])\n",
        "  axs[i].set_xticklabels(axis[i].get_xticklabels(), rotation=90)\n",
        "fig.tight_layout()"
      ],
      "metadata": {
        "id": "-WV_39PXpjVL"
      },
      "execution_count": null,
      "outputs": []
    },
    {
      "cell_type": "code",
      "source": [
        "#========create figure with subplots========\n",
        "\n",
        "fig, axis = plt.subplots(nrows=3, ncols=3, figsize=(15,15))\n",
        "\n",
        "for i, var in enumerate(df.select_dtypes(include=['object']).columns:):\n",
        "  sns.histplot(x=var, hue='Loan_Status', data=df, ax=axis[i], multiple='fill', kde=False, elements='bar')\n",
        "  axs[i].set_xticklabels(axis[i].get_xticklabels(), rotation=90)\n",
        "\n",
        "fig.tight_layout()"
      ],
      "metadata": {
        "id": "_wo5AXjNrKK8"
      },
      "execution_count": null,
      "outputs": []
    },
    {
      "cell_type": "code",
      "source": [
        "plt.figure(figsize=(12,5))\n",
        "sns.distplot(df['ApplicantIncome'][df.Loan_Status==0])\n",
        "sns.distplot(df['ApplicantIncome'][df.Loan_Status==1])\n",
        "plt.legend(['Loan_Status=0','Loan_Status=1'])\n",
        "plt.show()\n",
        "\n",
        "plt.figure(figsize=(12,5))\n",
        "sns.distplot(df['LoanAmount'][df.Loan_Status==0])\n",
        "sns.distplot(df['LoanAmount'][df.Loan_Status==1])\n",
        "plt.legend(['Loan_Status=0','Loan_Status=1'])\n",
        "plt.show()"
      ],
      "metadata": {
        "id": "X2C6i_6JfLeb"
      },
      "execution_count": null,
      "outputs": []
    },
    {
      "cell_type": "code",
      "source": [
        "con_var = ['ApplicantIncome', 'CoapplicantIncome', 'LoanAmount', 'Loan_Amount_Term', 'Credit_History']\n",
        "\n",
        "fig, axs = plt.subplots(nrows=2, ncols=3, figsize=(20,10))\n",
        "axs = axs.flatten()\n",
        "\n",
        "for i, var in enumerate(con_var):\n",
        "  sns.boxplot(x=var, data=df, ax=axs[i])\n",
        "\n",
        "fig.tight_layout()\n",
        "plt.show()"
      ],
      "metadata": {
        "id": "obHJk0gyx2hH"
      },
      "execution_count": null,
      "outputs": []
    },
    {
      "cell_type": "code",
      "source": [
        "con_var = ['ApplicantIncome', 'CoapplicantIncome', 'LoanAmount', 'Loan_Amount_Term', 'Credit_History']\n",
        "\n",
        "fig, axs = plt.subplots(nrows=2, ncols=3, figsize=(20,10))\n",
        "axs = axs.flatten()\n",
        "\n",
        "for i, var in enumerate(con_var):\n",
        "  sns.boxplot(y=var, x='Loan_Status' data=df, ax=axs[i])\n",
        "\n",
        "fig.tight_layout()\n",
        "plt.show()"
      ],
      "metadata": {
        "id": "UHIEq0O5zZ-Z"
      },
      "execution_count": null,
      "outputs": []
    },
    {
      "cell_type": "code",
      "source": [
        "con_var = ['ApplicantIncome', 'CoapplicantIncome', 'LoanAmount', 'Loan_Amount_Term', 'Credit_History']\n",
        "\n",
        "fig, axs = plt.subplots(nrows=2, ncols=3, figsize=(20,10))\n",
        "axs = axs.flatten()\n",
        "\n",
        "for i, var in enumerate(con_var):\n",
        "  sns.violinplot(x=var, data=df, ax=axs[i])\n",
        "\n",
        "fig.tight_layout()\n",
        "plt.show()"
      ],
      "metadata": {
        "id": "cMyduHmgzpnN"
      },
      "execution_count": null,
      "outputs": []
    },
    {
      "cell_type": "code",
      "source": [
        "con_var = ['ApplicantIncome', 'CoapplicantIncome', 'LoanAmount', 'Loan_Amount_Term', 'Credit_History']\n",
        "\n",
        "fig, axs = plt.subplots(nrows=2, ncols=3, figsize=(20,10))\n",
        "axs = axs.flatten()\n",
        "\n",
        "for i, var in enumerate(con_var):\n",
        "  sns.violinplot(y=var, x='Loan_Status' data=df, ax=axs[i])\n",
        "\n",
        "fig.tight_layout()\n",
        "plt.show()"
      ],
      "metadata": {
        "id": "UQvZfOPc0Ucm"
      },
      "execution_count": null,
      "outputs": []
    },
    {
      "cell_type": "code",
      "source": [
        "##==== check if label is unbalanced =================\n",
        "plt.figure(figsize=(8,4))\n",
        "sns.countplot(df.Loan_Status)\n",
        "plt.show()"
      ],
      "metadata": {
        "id": "ei7HB_pH4FLM"
      },
      "execution_count": null,
      "outputs": []
    },
    {
      "cell_type": "markdown",
      "source": [
        "**Encoding categorical variables**"
      ],
      "metadata": {
        "id": "ZSXSgfBOmrby"
      }
    },
    {
      "cell_type": "code",
      "source": [
        "from sklearn.preprocessing import LabelEncoder\n",
        "\n",
        "le = LabelEncoder()\n",
        "df_encode = df[['Education','Dependents','Self_Employed', 'Gender', 'Married', 'Property_Area']]\n",
        "\n",
        "df[['Education','Dependents','Self_Employed', 'Gender', 'Married', 'Property_Area']] = df_encode.apply(label_encoder.fit_transform)\n",
        "\n",
        "# save encode feature\n",
        "output = open('label_encoder.pkl', 'wb')\n",
        "pickle.dump(le, output)\n",
        "output.close()\n",
        "\n",
        "#label_encoder = joblib.load('label_encoder.pkl')  # Load the saved LabelEncoder object\n",
        "#new_data_encoded = new_data[['column1', 'column2', 'column3']].apply(label_encoder.transform)"
      ],
      "metadata": {
        "id": "4PdrwQVVj0Hw"
      },
      "execution_count": null,
      "outputs": []
    },
    {
      "cell_type": "code",
      "source": [
        "##========== using chi-square to check how categorical input data affect target value==============\n"
      ],
      "metadata": {
        "id": "V6uWKyBg7pfi"
      },
      "execution_count": null,
      "outputs": []
    },
    {
      "cell_type": "markdown",
      "source": [
        "**Correlation heatmap**"
      ],
      "metadata": {
        "id": "zS64vR_I1lNH"
      }
    },
    {
      "cell_type": "code",
      "source": [
        "plt.figure(figsize=(20, 16))\n",
        "sns.heatmap(df.corr(), fmt='.2g', annot=True)"
      ],
      "metadata": {
        "id": "UkiVJckx1nz3"
      },
      "execution_count": null,
      "outputs": []
    },
    {
      "cell_type": "code",
      "source": [
        "##========= disploy top influencing factors ====================================\n",
        "\n",
        "plt.figure(figsize=(8, 12))\n",
        "heatmap = sns.heatmap(df.corr()[['Loan_status']].sort_values(by='target'), ascending=False)\n",
        "heatmap.set_title('Feature correlating with target', fontdict={'fontsize':18})\n",
        "\n",
        "corr = df.corrwith(df['Loan_status0']).sort_values(ascending = False).to_frame()\n",
        "corr.columns = ['Loan_status']\n",
        "\n",
        "plt.subplots(figsize = (5,5))\n",
        "sns.heatmap(corr, annot = True,cmap=colors, linewidth = 0.4, linecolor = 'black');\n",
        "plt.title('LOAN_STATUS Correlation')"
      ],
      "metadata": {
        "id": "rBu0pf1-8m4w"
      },
      "execution_count": null,
      "outputs": []
    },
    {
      "cell_type": "code",
      "source": [
        "##\n",
        "x=df[['Dependents','Education','Self_Employed','ApplicantIncome','LoanAmount','Credit_History']]\n",
        "y=df[['Loan_Status']]"
      ],
      "metadata": {
        "id": "_egumJAn4Vpk"
      },
      "execution_count": null,
      "outputs": []
    },
    {
      "cell_type": "code",
      "source": [
        "##======== handling unbalanced dataset =============\n",
        "\n",
        "over = SMOTE(sampling_strategy=0.1)\n",
        "under = RandomUnderSampler(sampling_strategy=0.5)\n",
        "steps = [('o', over), ('u', under)]\n",
        "pipeline = Pipeline(steps=steps)\n",
        "\n",
        "# transform the dataset\n",
        "sample_X, sample_y = pipeline.fit_resample(x, y)\n",
        "Counter(sample_y)"
      ],
      "metadata": {
        "id": "wRgMH9i46ZE3"
      },
      "execution_count": null,
      "outputs": []
    },
    {
      "cell_type": "code",
      "source": [
        "#==============split==================\n",
        "x_train, x_test, y_train, y_test = train_test_split(sample_X, sample_y, test_size=0.25,random_state=40)"
      ],
      "metadata": {
        "id": "oOihOZBB7k9Q"
      },
      "execution_count": null,
      "outputs": []
    },
    {
      "cell_type": "code",
      "source": [
        "#======= Remove outliers using Z-score test ================\n",
        "from scipy import stats\n",
        "\n",
        "cols = ['ApplicantIncome', 'CoapplicantIncome', 'LoanAmount', 'Loan_Amount_Term']\n",
        "z_scores = np.abs(stats.zscore(x_train[col]))\n",
        "\n",
        "#=======set thresold==========\n",
        "threshold=3\n",
        "\n",
        "#========== find the indices of the outliers ================\n",
        "\n",
        "outlier_indices = np.where(z_scores > threshold)[0]\n",
        "\n",
        "#remove outliers from the training data\n",
        "x_train = x_train.drop([x_train.index[outlier_indices]])\n",
        "y_train = y_train.drop([y_train.index[outlier_indices]])"
      ],
      "metadata": {
        "id": "tg1mPJps3PYC"
      },
      "execution_count": null,
      "outputs": []
    },
    {
      "cell_type": "markdown",
      "source": [
        "## Modeling"
      ],
      "metadata": {
        "id": "6hoT1hwq9rx9"
      }
    },
    {
      "cell_type": "code",
      "source": [
        "def model(classifier, x_train, y_train):\n",
        "  sns.set(rc={'figure.figure':(5,3)})\n",
        "  sns.set(style='whitegrid')\n",
        "  classifier.fit(x_train, y_train)\n",
        "  prediction = classifier.predict(x_test)\n",
        "  cv = RepeatedStratifiedKfold(n_splits = 10, n_repeats = 3, random = 1)\n",
        "  print('Cross Validation Score : ', '{0:.2%}'.format(cross_val_score(classifier, x_train, y_train, cv=cv)))\n",
        "  print('ROC_AUC Score : ','{0.2%}'.format(roc_auc_score(y_test,prediction)))\n",
        "  #plot_roc_curve\n",
        "  RocCurveDisplay.from_estimator(classifier, x_test, y_test)\n",
        "  plt.title('ROC_AUC_Plot')\n",
        "  plt.show()\n",
        "\n",
        "def model_evaluation():\n",
        "\n",
        "  #Confusion_Matrix\n",
        "  cm = confusion_matrix(y_test,classifier(x_test))\n",
        "  name = ['True Neg', 'False Pos', 'False Neg', 'True Pos']\n",
        "  counts = [value for value in cm.flatten()]\n",
        "  percentages ="
      ],
      "metadata": {
        "id": "jtGQ9mfhPQMl"
      },
      "execution_count": null,
      "outputs": []
    },
    {
      "cell_type": "markdown",
      "source": [
        "##Conclusion"
      ],
      "metadata": {
        "id": "DsRGFR9m9wRK"
      }
    },
    {
      "cell_type": "code",
      "source": [
        "import shap\n",
        "explainer = shap.TreeExplainer(dtree)\n",
        "shap_values = explainer.shap_values(x_test)\n",
        "shap.summary_plot(shap_values, x_test)"
      ],
      "metadata": {
        "id": "GJhdcc4sVPzm"
      },
      "execution_count": null,
      "outputs": []
    },
    {
      "cell_type": "code",
      "source": [
        "#compute SHAP values\n",
        "explainer = shap.TreeExplainer(dtree)\n",
        "shap_values = explainer.shap_values(x_test)\n",
        "shap.summary_plot(shap_values[1], x_test.values, feature_name = x_test.columns, plot_type='violin')"
      ],
      "metadata": {
        "id": "6-eZAt_zVl1C"
      },
      "execution_count": null,
      "outputs": []
    },
    {
      "cell_type": "code",
      "source": [],
      "metadata": {
        "id": "Z9JJTRjyWKdv"
      },
      "execution_count": null,
      "outputs": []
    }
  ]
}